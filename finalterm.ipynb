{
 "cells": [
  {
   "cell_type": "code",
   "execution_count": 23,
   "metadata": {},
   "outputs": [
    {
     "name": "stdout",
     "output_type": "stream",
     "text": [
      "<class 'pandas.core.frame.DataFrame'>\n",
      "RangeIndex: 6823 entries, 0 to 6822\n",
      "Data columns (total 11 columns):\n",
      " #   Column             Non-Null Count  Dtype  \n",
      "---  ------             --------------  -----  \n",
      " 0   url                6823 non-null   object \n",
      " 1   product_name       6823 non-null   object \n",
      " 2   reviewer_name      6823 non-null   object \n",
      " 3   review_title       6822 non-null   object \n",
      " 4   review_text        6814 non-null   object \n",
      " 5   review_rating      6823 non-null   float64\n",
      " 6   verified_purchase  6823 non-null   bool   \n",
      " 7   review_date        6823 non-null   object \n",
      " 8   helpful_count      1953 non-null   object \n",
      " 9   uniq_id            6823 non-null   object \n",
      " 10  scraped_at         6823 non-null   object \n",
      "dtypes: bool(1), float64(1), object(9)\n",
      "memory usage: 539.8+ KB\n"
     ]
    },
    {
     "data": {
      "text/html": [
       "<div>\n",
       "<style scoped>\n",
       "    .dataframe tbody tr th:only-of-type {\n",
       "        vertical-align: middle;\n",
       "    }\n",
       "\n",
       "    .dataframe tbody tr th {\n",
       "        vertical-align: top;\n",
       "    }\n",
       "\n",
       "    .dataframe thead th {\n",
       "        text-align: right;\n",
       "    }\n",
       "</style>\n",
       "<table border=\"1\" class=\"dataframe\">\n",
       "  <thead>\n",
       "    <tr style=\"text-align: right;\">\n",
       "      <th></th>\n",
       "      <th>url</th>\n",
       "      <th>product_name</th>\n",
       "      <th>reviewer_name</th>\n",
       "      <th>review_title</th>\n",
       "      <th>review_text</th>\n",
       "      <th>review_rating</th>\n",
       "      <th>verified_purchase</th>\n",
       "      <th>review_date</th>\n",
       "      <th>helpful_count</th>\n",
       "      <th>uniq_id</th>\n",
       "      <th>scraped_at</th>\n",
       "    </tr>\n",
       "  </thead>\n",
       "  <tbody>\n",
       "    <tr>\n",
       "      <th>0</th>\n",
       "      <td>https://www.amazon.co.uk/dp/B07SBX32T5</td>\n",
       "      <td>Klasified Women's Transparent Clear Sneaker Sh...</td>\n",
       "      <td>Jocelyn McSayles</td>\n",
       "      <td>Love em</td>\n",
       "      <td>Love these. Was looking for converses and thes...</td>\n",
       "      <td>5.0</td>\n",
       "      <td>True</td>\n",
       "      <td>Reviewed in the United States on 2 June 2020</td>\n",
       "      <td>2 people found this helpful</td>\n",
       "      <td>36eae4e5-2894-5279-a0b7-d2b330e2b814</td>\n",
       "      <td>24/12/2021 02:26:25</td>\n",
       "    </tr>\n",
       "    <tr>\n",
       "      <th>1</th>\n",
       "      <td>https://www.amazon.co.uk/dp/B07SBX32T5</td>\n",
       "      <td>Klasified Women's Transparent Clear Sneaker Sh...</td>\n",
       "      <td>Kenia Rivera</td>\n",
       "      <td>The plastic ripped</td>\n",
       "      <td>The shoes are very cute, but after the 2nd day...</td>\n",
       "      <td>2.0</td>\n",
       "      <td>True</td>\n",
       "      <td>Reviewed in the United States on 28 October 2021</td>\n",
       "      <td>NaN</td>\n",
       "      <td>f4778bb8-3070-5cb1-b5aa-ffce41a97b57</td>\n",
       "      <td>24/12/2021 02:26:25</td>\n",
       "    </tr>\n",
       "    <tr>\n",
       "      <th>2</th>\n",
       "      <td>https://www.amazon.co.uk/dp/B07SBX32T5</td>\n",
       "      <td>Klasified Women's Transparent Clear Sneaker Sh...</td>\n",
       "      <td>Chris Souza</td>\n",
       "      <td>Good quality</td>\n",
       "      <td>Good quality</td>\n",
       "      <td>5.0</td>\n",
       "      <td>True</td>\n",
       "      <td>Reviewed in the United States on 20 January 2021</td>\n",
       "      <td>NaN</td>\n",
       "      <td>db5a7525-d40b-5265-84d8-df4f29837a3b</td>\n",
       "      <td>24/12/2021 02:26:25</td>\n",
       "    </tr>\n",
       "    <tr>\n",
       "      <th>3</th>\n",
       "      <td>https://www.amazon.co.uk/dp/B07SBX32T5</td>\n",
       "      <td>Klasified Women's Transparent Clear Sneaker Sh...</td>\n",
       "      <td>Amazon Customer</td>\n",
       "      <td>Good</td>\n",
       "      <td>Great</td>\n",
       "      <td>5.0</td>\n",
       "      <td>True</td>\n",
       "      <td>Reviewed in the United States on 22 April 2021</td>\n",
       "      <td>NaN</td>\n",
       "      <td>75a42851-6462-54b5-988a-27d336221943</td>\n",
       "      <td>24/12/2021 02:26:25</td>\n",
       "    </tr>\n",
       "    <tr>\n",
       "      <th>4</th>\n",
       "      <td>https://www.amazon.co.uk/dp/B08SW434MG</td>\n",
       "      <td>GUESS Women's Bradly Gymnastics Shoe, White, 7 UK</td>\n",
       "      <td>Graziella</td>\n",
       "      <td>PERFETTE!!</td>\n",
       "      <td>Ho scelto il modello bianco con rifinitura die...</td>\n",
       "      <td>5.0</td>\n",
       "      <td>True</td>\n",
       "      <td>Reviewed in Italy on 2 April 2021</td>\n",
       "      <td>2 people found this helpful</td>\n",
       "      <td>232dee43-849e-5d06-ba05-efb3f4814714</td>\n",
       "      <td>24/12/2021 02:26:25</td>\n",
       "    </tr>\n",
       "  </tbody>\n",
       "</table>\n",
       "</div>"
      ],
      "text/plain": [
       "                                      url  \\\n",
       "0  https://www.amazon.co.uk/dp/B07SBX32T5   \n",
       "1  https://www.amazon.co.uk/dp/B07SBX32T5   \n",
       "2  https://www.amazon.co.uk/dp/B07SBX32T5   \n",
       "3  https://www.amazon.co.uk/dp/B07SBX32T5   \n",
       "4  https://www.amazon.co.uk/dp/B08SW434MG   \n",
       "\n",
       "                                        product_name     reviewer_name  \\\n",
       "0  Klasified Women's Transparent Clear Sneaker Sh...  Jocelyn McSayles   \n",
       "1  Klasified Women's Transparent Clear Sneaker Sh...      Kenia Rivera   \n",
       "2  Klasified Women's Transparent Clear Sneaker Sh...       Chris Souza   \n",
       "3  Klasified Women's Transparent Clear Sneaker Sh...   Amazon Customer   \n",
       "4  GUESS Women's Bradly Gymnastics Shoe, White, 7 UK         Graziella   \n",
       "\n",
       "         review_title                                        review_text  \\\n",
       "0             Love em  Love these. Was looking for converses and thes...   \n",
       "1  The plastic ripped  The shoes are very cute, but after the 2nd day...   \n",
       "2        Good quality                                       Good quality   \n",
       "3                Good                                              Great   \n",
       "4          PERFETTE!!  Ho scelto il modello bianco con rifinitura die...   \n",
       "\n",
       "   review_rating  verified_purchase  \\\n",
       "0            5.0               True   \n",
       "1            2.0               True   \n",
       "2            5.0               True   \n",
       "3            5.0               True   \n",
       "4            5.0               True   \n",
       "\n",
       "                                        review_date  \\\n",
       "0      Reviewed in the United States on 2 June 2020   \n",
       "1  Reviewed in the United States on 28 October 2021   \n",
       "2  Reviewed in the United States on 20 January 2021   \n",
       "3    Reviewed in the United States on 22 April 2021   \n",
       "4                 Reviewed in Italy on 2 April 2021   \n",
       "\n",
       "                 helpful_count                               uniq_id  \\\n",
       "0  2 people found this helpful  36eae4e5-2894-5279-a0b7-d2b330e2b814   \n",
       "1                          NaN  f4778bb8-3070-5cb1-b5aa-ffce41a97b57   \n",
       "2                          NaN  db5a7525-d40b-5265-84d8-df4f29837a3b   \n",
       "3                          NaN  75a42851-6462-54b5-988a-27d336221943   \n",
       "4  2 people found this helpful  232dee43-849e-5d06-ba05-efb3f4814714   \n",
       "\n",
       "            scraped_at  \n",
       "0  24/12/2021 02:26:25  \n",
       "1  24/12/2021 02:26:25  \n",
       "2  24/12/2021 02:26:25  \n",
       "3  24/12/2021 02:26:25  \n",
       "4  24/12/2021 02:26:25  "
      ]
     },
     "execution_count": 23,
     "metadata": {},
     "output_type": "execute_result"
    }
   ],
   "source": [
    "import pandas as pd\n",
    "\n",
    "# 데이터 로드\n",
    "file_path = 'amazon_uk_shoes_products_dataset_2021_12.csv'\n",
    "data = pd.read_csv(file_path)\n",
    "\n",
    "# 데이터프레임 정보 확인\n",
    "data.info()\n",
    "data.head()\n"
   ]
  },
  {
   "cell_type": "code",
   "execution_count": 24,
   "metadata": {},
   "outputs": [
    {
     "name": "stdout",
     "output_type": "stream",
     "text": [
      "<class 'pandas.core.frame.DataFrame'>\n",
      "Index: 1950 entries, 0 to 6816\n",
      "Data columns (total 11 columns):\n",
      " #   Column             Non-Null Count  Dtype  \n",
      "---  ------             --------------  -----  \n",
      " 0   url                1950 non-null   object \n",
      " 1   product_name       1950 non-null   object \n",
      " 2   reviewer_name      1950 non-null   object \n",
      " 3   review_title       1950 non-null   object \n",
      " 4   review_text        1950 non-null   object \n",
      " 5   review_rating      1950 non-null   float64\n",
      " 6   verified_purchase  1950 non-null   bool   \n",
      " 7   review_date        1950 non-null   object \n",
      " 8   helpful_count      1950 non-null   object \n",
      " 9   uniq_id            1950 non-null   object \n",
      " 10  scraped_at         1950 non-null   object \n",
      "dtypes: bool(1), float64(1), object(9)\n",
      "memory usage: 169.5+ KB\n"
     ]
    }
   ],
   "source": [
    "# 결측값 제거\n",
    "data.dropna(inplace=True)\n",
    "\n",
    "# 결측값 제거 후 데이터프레임 정보 확인\n",
    "data.info()\n"
   ]
  },
  {
   "cell_type": "code",
   "execution_count": 25,
   "metadata": {},
   "outputs": [
    {
     "name": "stdout",
     "output_type": "stream",
     "text": [
      "Requirement already satisfied: nltk in /usr/local/python/3.10.13/lib/python3.10/site-packages (3.8.1)\n",
      "Requirement already satisfied: click in /usr/local/python/3.10.13/lib/python3.10/site-packages (from nltk) (8.1.7)\n",
      "Requirement already satisfied: joblib in /home/codespace/.local/lib/python3.10/site-packages (from nltk) (1.4.2)\n",
      "Requirement already satisfied: regex>=2021.8.3 in /usr/local/python/3.10.13/lib/python3.10/site-packages (from nltk) (2024.5.15)\n",
      "Requirement already satisfied: tqdm in /usr/local/python/3.10.13/lib/python3.10/site-packages (from nltk) (4.66.4)\n",
      "Requirement already satisfied: seaborn in /home/codespace/.local/lib/python3.10/site-packages (0.13.2)\n",
      "Requirement already satisfied: numpy!=1.24.0,>=1.20 in /home/codespace/.local/lib/python3.10/site-packages (from seaborn) (1.26.4)\n",
      "Requirement already satisfied: pandas>=1.2 in /home/codespace/.local/lib/python3.10/site-packages (from seaborn) (2.2.2)\n",
      "Requirement already satisfied: matplotlib!=3.6.1,>=3.4 in /home/codespace/.local/lib/python3.10/site-packages (from seaborn) (3.9.0)\n",
      "Requirement already satisfied: contourpy>=1.0.1 in /home/codespace/.local/lib/python3.10/site-packages (from matplotlib!=3.6.1,>=3.4->seaborn) (1.2.1)\n",
      "Requirement already satisfied: cycler>=0.10 in /home/codespace/.local/lib/python3.10/site-packages (from matplotlib!=3.6.1,>=3.4->seaborn) (0.12.1)\n",
      "Requirement already satisfied: fonttools>=4.22.0 in /home/codespace/.local/lib/python3.10/site-packages (from matplotlib!=3.6.1,>=3.4->seaborn) (4.52.4)\n",
      "Requirement already satisfied: kiwisolver>=1.3.1 in /home/codespace/.local/lib/python3.10/site-packages (from matplotlib!=3.6.1,>=3.4->seaborn) (1.4.5)\n",
      "Requirement already satisfied: packaging>=20.0 in /home/codespace/.local/lib/python3.10/site-packages (from matplotlib!=3.6.1,>=3.4->seaborn) (24.0)\n",
      "Requirement already satisfied: pillow>=8 in /home/codespace/.local/lib/python3.10/site-packages (from matplotlib!=3.6.1,>=3.4->seaborn) (10.3.0)\n",
      "Requirement already satisfied: pyparsing>=2.3.1 in /home/codespace/.local/lib/python3.10/site-packages (from matplotlib!=3.6.1,>=3.4->seaborn) (3.1.2)\n",
      "Requirement already satisfied: python-dateutil>=2.7 in /home/codespace/.local/lib/python3.10/site-packages (from matplotlib!=3.6.1,>=3.4->seaborn) (2.9.0.post0)\n",
      "Requirement already satisfied: pytz>=2020.1 in /home/codespace/.local/lib/python3.10/site-packages (from pandas>=1.2->seaborn) (2024.1)\n",
      "Requirement already satisfied: tzdata>=2022.7 in /home/codespace/.local/lib/python3.10/site-packages (from pandas>=1.2->seaborn) (2024.1)\n",
      "Requirement already satisfied: six>=1.5 in /home/codespace/.local/lib/python3.10/site-packages (from python-dateutil>=2.7->matplotlib!=3.6.1,>=3.4->seaborn) (1.16.0)\n",
      "Requirement already satisfied: matplotlib in /home/codespace/.local/lib/python3.10/site-packages (3.9.0)\n",
      "Requirement already satisfied: contourpy>=1.0.1 in /home/codespace/.local/lib/python3.10/site-packages (from matplotlib) (1.2.1)\n",
      "Requirement already satisfied: cycler>=0.10 in /home/codespace/.local/lib/python3.10/site-packages (from matplotlib) (0.12.1)\n",
      "Requirement already satisfied: fonttools>=4.22.0 in /home/codespace/.local/lib/python3.10/site-packages (from matplotlib) (4.52.4)\n",
      "Requirement already satisfied: kiwisolver>=1.3.1 in /home/codespace/.local/lib/python3.10/site-packages (from matplotlib) (1.4.5)\n",
      "Requirement already satisfied: numpy>=1.23 in /home/codespace/.local/lib/python3.10/site-packages (from matplotlib) (1.26.4)\n",
      "Requirement already satisfied: packaging>=20.0 in /home/codespace/.local/lib/python3.10/site-packages (from matplotlib) (24.0)\n",
      "Requirement already satisfied: pillow>=8 in /home/codespace/.local/lib/python3.10/site-packages (from matplotlib) (10.3.0)\n",
      "Requirement already satisfied: pyparsing>=2.3.1 in /home/codespace/.local/lib/python3.10/site-packages (from matplotlib) (3.1.2)\n",
      "Requirement already satisfied: python-dateutil>=2.7 in /home/codespace/.local/lib/python3.10/site-packages (from matplotlib) (2.9.0.post0)\n",
      "Requirement already satisfied: six>=1.5 in /home/codespace/.local/lib/python3.10/site-packages (from python-dateutil>=2.7->matplotlib) (1.16.0)\n"
     ]
    }
   ],
   "source": [
    "!pip install nltk\n",
    "!pip install seaborn\n",
    "!pip install matplotlib"
   ]
  },
  {
   "cell_type": "code",
   "execution_count": 26,
   "metadata": {},
   "outputs": [
    {
     "name": "stderr",
     "output_type": "stream",
     "text": [
      "[nltk_data] Downloading package stopwords to\n",
      "[nltk_data]     /home/codespace/nltk_data...\n",
      "[nltk_data]   Package stopwords is already up-to-date!\n",
      "[nltk_data] Downloading package wordnet to\n",
      "[nltk_data]     /home/codespace/nltk_data...\n",
      "[nltk_data]   Package wordnet is already up-to-date!\n"
     ]
    }
   ],
   "source": [
    "from nltk.corpus import stopwords\n",
    "from nltk.stem import WordNetLemmatizer\n",
    "import nltk\n",
    "\n",
    "# NLTK 데이터 다운로드 (최초 실행 시 한 번만 필요)\n",
    "nltk.download('stopwords')\n",
    "nltk.download('wordnet')\n",
    "\n",
    "# 불용어 집합 및 표제어 추출기 초기화\n",
    "stop_words = set(stopwords.words('english'))\n",
    "lemmatizer = WordNetLemmatizer()\n"
   ]
  },
  {
   "cell_type": "code",
   "execution_count": 27,
   "metadata": {},
   "outputs": [],
   "source": [
    "import re\n",
    "\n",
    "def preprocess_text(text):\n",
    "    # 소문자 변환 및 특수 문자 제거\n",
    "    text = re.sub(r'[^\\w\\s]', '', text.lower())\n",
    "    # 토큰화\n",
    "    words = text.split()\n",
    "    # 불용어 제거 및 표제어 추출\n",
    "    words = [lemmatizer.lemmatize(word) for word in words if word not in stop_words]\n",
    "    return ' '.join(words)\n",
    "\n",
    "# 'review_text' 열에 대해 불용어 제거 전후 및 표제어 추출 후의 텍스트 생성\n",
    "data['processed_text'] = data['review_text'].apply(preprocess_text)\n"
   ]
  },
  {
   "cell_type": "code",
   "execution_count": 28,
   "metadata": {},
   "outputs": [
    {
     "name": "stderr",
     "output_type": "stream",
     "text": [
      "[nltk_data] Downloading package vader_lexicon to\n",
      "[nltk_data]     /home/codespace/nltk_data...\n",
      "[nltk_data]   Package vader_lexicon is already up-to-date!\n"
     ]
    }
   ],
   "source": [
    "from nltk.sentiment.vader import SentimentIntensityAnalyzer\n",
    "\n",
    "# VADER 초기화\n",
    "nltk.download('vader_lexicon')\n",
    "sia = SentimentIntensityAnalyzer()\n",
    "\n",
    "# 리뷰 텍스트에 대한 감정 점수 계산\n",
    "data['sentiment_score'] = data['processed_text'].apply(lambda x: sia.polarity_scores(x)['compound'])\n",
    "\n",
    "# 감정 점수로부터 레이블 생성\n",
    "data['sentiment_label'] = data['sentiment_score'].apply(lambda x: 'positive' if x >= 0.05 else 'negative' if x <= -0.05 else 'neutral')\n"
   ]
  },
  {
   "cell_type": "code",
   "execution_count": 29,
   "metadata": {},
   "outputs": [
    {
     "name": "stdout",
     "output_type": "stream",
     "text": [
      "2960    ich liebe die schuhe sehr gutes laufgefühl hal...\n",
      "1937    back heel cup soft rebound stepped onto older ...\n",
      "5514    putting tying shoesespecially time go one daug...\n",
      "5632        fit good little roomy needed room orthopedics\n",
      "3098    looked premium received however daughter start...\n",
      "Name: processed_text, dtype: object 2960    positive\n",
      "1937    positive\n",
      "5514    positive\n",
      "5632    positive\n",
      "3098    negative\n",
      "Name: sentiment_label, dtype: object\n"
     ]
    }
   ],
   "source": [
    "from sklearn.model_selection import train_test_split\n",
    "\n",
    "# 학습 및 테스트 세트로 분할\n",
    "X_train, X_test, y_train, y_test = train_test_split(data['processed_text'], data['sentiment_label'], test_size=0.2, random_state=42)\n",
    "\n",
    "# 학습 세트와 테스트 세트의 일부 데이터 출력\n",
    "print(X_train.head(), y_train.head())\n"
   ]
  },
  {
   "cell_type": "code",
   "execution_count": 30,
   "metadata": {},
   "outputs": [],
   "source": [
    "from sklearn.feature_extraction.text import TfidfVectorizer\n",
    "\n",
    "# TF-IDF 벡터화\n",
    "tfidf = TfidfVectorizer(max_features=5000)\n",
    "X_train_tfidf = tfidf.fit_transform(X_train)\n",
    "X_test_tfidf = tfidf.transform(X_test)\n"
   ]
  },
  {
   "cell_type": "code",
   "execution_count": 31,
   "metadata": {},
   "outputs": [],
   "source": [
    "from sklearn.linear_model import LogisticRegression\n",
    "from sklearn.pipeline import Pipeline\n",
    "\n",
    "# 로지스틱 회귀 모델 및 파이프라인 설정\n",
    "pipeline = Pipeline([\n",
    "    ('tfidf', TfidfVectorizer(max_features=5000)),\n",
    "    ('clf', LogisticRegression(max_iter=1000))\n",
    "])\n"
   ]
  },
  {
   "cell_type": "code",
   "execution_count": 32,
   "metadata": {},
   "outputs": [
    {
     "name": "stdout",
     "output_type": "stream",
     "text": [
      "Best Hyperparameters: {'clf__C': 10, 'clf__solver': 'lbfgs'}\n"
     ]
    }
   ],
   "source": [
    "from sklearn.model_selection import GridSearchCV\n",
    "\n",
    "# 하이퍼파라미터 그리드 설정\n",
    "param_grid = {\n",
    "    'clf__C': [0.1, 1, 10],\n",
    "    'clf__solver': ['liblinear', 'lbfgs']\n",
    "}\n",
    "\n",
    "# GridSearchCV를 통한 모델 학습\n",
    "grid_search = GridSearchCV(pipeline, param_grid, cv=5, scoring='accuracy')\n",
    "grid_search.fit(X_train, y_train)\n",
    "\n",
    "# 최적의 하이퍼파라미터 출력\n",
    "print(\"Best Hyperparameters:\", grid_search.best_params_)\n"
   ]
  },
  {
   "cell_type": "code",
   "execution_count": 33,
   "metadata": {},
   "outputs": [
    {
     "name": "stdout",
     "output_type": "stream",
     "text": [
      "Test Accuracy: 0.8282051282051283\n"
     ]
    }
   ],
   "source": [
    "from sklearn.metrics import accuracy_score\n",
    "\n",
    "# 테스트 세트 예측\n",
    "y_pred = grid_search.predict(X_test)\n",
    "\n",
    "# 정확도 출력\n",
    "accuracy = accuracy_score(y_test, y_pred)\n",
    "print(\"Test Accuracy:\", accuracy)\n"
   ]
  },
  {
   "cell_type": "code",
   "execution_count": 34,
   "metadata": {},
   "outputs": [
    {
     "name": "stdout",
     "output_type": "stream",
     "text": [
      "Mean CV Accuracy: 0.8423076923076923\n"
     ]
    }
   ],
   "source": [
    "from sklearn.model_selection import cross_val_score\n",
    "\n",
    "# K-fold Cross Validation을 사용하여 평가\n",
    "cv_scores = cross_val_score(grid_search.best_estimator_, X_train, y_train, cv=5)\n",
    "\n",
    "# 평균 정확도 계산\n",
    "mean_accuracy = cv_scores.mean()\n",
    "print(\"Mean CV Accuracy:\", mean_accuracy)\n"
   ]
  },
  {
   "cell_type": "code",
   "execution_count": 35,
   "metadata": {},
   "outputs": [
    {
     "name": "stdout",
     "output_type": "stream",
     "text": [
      "ROC-AUC: 0.9276876314437653\n",
      "Confusion Matrix:\n",
      " [[ 38   5  26]\n",
      " [  3  50  13]\n",
      " [  5  15 235]]\n",
      "Classification Report:\n",
      "               precision    recall  f1-score   support\n",
      "\n",
      "    negative       0.83      0.55      0.66        69\n",
      "     neutral       0.71      0.76      0.74        66\n",
      "    positive       0.86      0.92      0.89       255\n",
      "\n",
      "    accuracy                           0.83       390\n",
      "   macro avg       0.80      0.74      0.76       390\n",
      "weighted avg       0.83      0.83      0.82       390\n",
      "\n"
     ]
    }
   ],
   "source": [
    "from sklearn.metrics import roc_auc_score, confusion_matrix, classification_report\n",
    "\n",
    "# ROC-AUC 계산 (다중 클래스)\n",
    "roc_auc = roc_auc_score(y_test, grid_search.predict_proba(X_test), multi_class='ovr')\n",
    "print(\"ROC-AUC:\", roc_auc)\n",
    "\n",
    "# 혼동 행렬 계산\n",
    "conf_matrix = confusion_matrix(y_test, y_pred)\n",
    "print(\"Confusion Matrix:\\n\", conf_matrix)\n",
    "\n",
    "# 분류 보고서 생성\n",
    "report = classification_report(y_test, y_pred, target_names=['negative', 'neutral', 'positive'])\n",
    "print(\"Classification Report:\\n\", report)\n"
   ]
  },
  {
   "cell_type": "code",
   "execution_count": 36,
   "metadata": {},
   "outputs": [
    {
     "data": {
      "image/png": "[encoded data removed]",
      "text/plain": [
       "<Figure size 800x600 with 1 Axes>"
      ]
     },
     "metadata": {},
     "output_type": "display_data"
    }
   ],
   "source": [
    "import matplotlib.pyplot as plt\n",
    "import seaborn as sns\n",
    "\n",
    "def plot_confusion_matrix(cm, classes, title='Confusion matrix', cmap=plt.cm.Blues):\n",
    "    plt.figure(figsize=(8, 6))\n",
    "    sns.heatmap(cm, annot=True, fmt=\"d\", cmap=cmap, cbar=False, xticklabels=classes, yticklabels=classes)\n",
    "    plt.xlabel('Predicted label')\n",
    "    plt.ylabel('True label')\n",
    "    plt.title(title)\n",
    "    plt.show()\n",
    "\n",
    "# 혼동 행렬 시각화\n",
    "conf_matrix = confusion_matrix(y_test, y_pred)\n",
    "plot_confusion_matrix(conf_matrix, classes=['negative', 'neutral', 'positive'])\n"
   ]
  },
  {
   "cell_type": "code",
   "execution_count": 37,
   "metadata": {},
   "outputs": [
    {
     "data": {
      "image/png": "[encoded data removed]",
      "text/plain": [
       "<Figure size 1000x800 with 1 Axes>"
      ]
     },
     "metadata": {},
     "output_type": "display_data"
    }
   ],
   "source": [
    "import matplotlib.pyplot as plt\n",
    "from sklearn.preprocessing import label_binarize\n",
    "from sklearn.metrics import roc_curve, auc\n",
    "from itertools import cycle\n",
    "import seaborn as sns\n",
    "\n",
    "# seaborn 스타일 설정\n",
    "sns.set_style(\"whitegrid\")\n",
    "\n",
    "# 레이블 이진화\n",
    "y_test_bin = label_binarize(y_test, classes=['negative', 'neutral', 'positive'])\n",
    "y_pred_prob = grid_search.predict_proba(X_test)\n",
    "\n",
    "# 클래스 수 설정\n",
    "n_classes = y_test_bin.shape[1]\n",
    "\n",
    "# ROC 곡선 및 AUC 계산\n",
    "fpr = dict()\n",
    "tpr = dict()\n",
    "roc_auc = dict()\n",
    "for i in range(n_classes):\n",
    "    fpr[i], tpr[i], _ = roc_curve(y_test_bin[:, i], y_pred_prob[:, i])\n",
    "    roc_auc[i] = auc(fpr[i], tpr[i])\n",
    "\n",
    "# 새로운 색상 팔레트 사용\n",
    "colors = cycle(['#1f77b4', '#ff7f0e', '#2ca02c'])  # 블루, 오렌지, 그린\n",
    "\n",
    "# 모든 클래스에 대해 ROC 곡선 시각화\n",
    "plt.figure(figsize=(10, 8))\n",
    "for i, color in zip(range(n_classes), colors):\n",
    "    plt.plot(fpr[i], tpr[i], color=color, lw=2,\n",
    "             label='ROC curve of class {0} (area = {1:0.2f})'.format(['negative', 'neutral', 'positive'][i], roc_auc[i]))\n",
    "\n",
    "plt.plot([0, 1], [0, 1], 'k--', lw=2)\n",
    "plt.xlim([0.0, 1.0])\n",
    "plt.ylim([0.0, 1.05])\n",
    "plt.xlabel('False Positive Rate')\n",
    "plt.ylabel('True Positive Rate')\n",
    "plt.title('Receiver Operating Characteristic for each class')\n",
    "plt.legend(loc=\"lower right\")\n",
    "plt.show()\n"
   ]
  },
  {
   "cell_type": "code",
   "execution_count": null,
   "metadata": {},
   "outputs": [],
   "source": []
  }
 ],
 "metadata": {
  "kernelspec": {
   "display_name": "Python 3",
   "language": "python",
   "name": "python3"
  },
  "language_info": {
   "codemirror_mode": {
    "name": "ipython",
    "version": 3
   },
   "file_extension": ".py",
   "mimetype": "text/x-python",
   "name": "python",
   "nbconvert_exporter": "python",
   "pygments_lexer": "ipython3",
   "version": "3.10.13"
  }
 },
 "nbformat": 4,
 "nbformat_minor": 2
}
